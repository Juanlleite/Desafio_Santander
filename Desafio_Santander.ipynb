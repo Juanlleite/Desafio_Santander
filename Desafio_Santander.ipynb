{
  "nbformat": 4,
  "nbformat_minor": 0,
  "metadata": {
    "colab": {
      "provenance": [],
      "authorship_tag": "ABX9TyNCSWiv6yER25HBxyAaUkSJ",
      "include_colab_link": true
    },
    "kernelspec": {
      "name": "python3",
      "display_name": "Python 3"
    },
    "language_info": {
      "name": "python"
    }
  },
  "cells": [
    {
      "cell_type": "markdown",
      "metadata": {
        "id": "view-in-github",
        "colab_type": "text"
      },
      "source": [
        "<a href=\"https://colab.research.google.com/github/Juanlleite/Desafio_Santander/blob/main/Desafio_Santander.ipynb\" target=\"_parent\"><img src=\"https://colab.research.google.com/assets/colab-badge.svg\" alt=\"Open In Colab\"/></a>"
      ]
    },
    {
      "cell_type": "markdown",
      "source": [
        "# ***Bootcamp Santander***\n",
        "*Desafio: fazer uma pipeline ETL*\n",
        "\n",
        "Objetivo: relatar todos os meses as comidas mais consumidas pelos moradores,\n",
        "foi disponibilizados:\n",
        "\n",
        "*   nome\n",
        "*   idade\n",
        "*   comida preferida\n",
        "\n",
        "a funcionalidade do codigo é direcionada na adição dos dados de:\n",
        "\n",
        "*   comida mais consumida no mes\n",
        "*   mes atual para registro\n",
        "\n",
        "no fim será salvo e registrado no arquivo *data.csv*\n",
        "\n"
      ],
      "metadata": {
        "id": "iqlm8LfnqOF_"
      }
    },
    {
      "cell_type": "markdown",
      "source": [
        "## ***EXTRACT***"
      ],
      "metadata": {
        "id": "X24Z9C0apwHP"
      }
    },
    {
      "cell_type": "code",
      "source": [
        "# Importar as bibliotecas necessárias\n",
        "import pandas as pd\n",
        "import datetime"
      ],
      "metadata": {
        "id": "MbQXgAiLsB3R"
      },
      "execution_count": 10,
      "outputs": []
    },
    {
      "cell_type": "code",
      "source": [
        "# Criar um dicionário com os dados das pessoas da casa\n",
        "dados = {\n",
        "    'nome': ['Juan', 'Julia', 'Taciana'],\n",
        "    'idade': [20, 16, 41],\n",
        "    'comida_favorita': ['pizza', 'chocolate', 'macarrão'],\n",
        "}\n",
        "\n",
        "# Extrair os dados de idade e comida favorita\n",
        "dados_extraidos = pd.DataFrame(dados, columns=['nome', 'idade', 'comida_favorita'])"
      ],
      "metadata": {
        "id": "oKfX-aTzkhkz"
      },
      "execution_count": 11,
      "outputs": []
    },
    {
      "cell_type": "markdown",
      "source": [
        "## ***TRANSFORM***"
      ],
      "metadata": {
        "id": "kw3J8-_gp-Ti"
      }
    },
    {
      "cell_type": "code",
      "execution_count": 12,
      "metadata": {
        "colab": {
          "base_uri": "https://localhost:8080/"
        },
        "id": "SHP706-hfaAZ",
        "outputId": "27e3ae97-d3ef-4923-b557-dadc8ef96c6a"
      },
      "outputs": [
        {
          "name": "stdout",
          "output_type": "stream",
          "text": [
            "Qual foi a comida mais consumida por Juan no mês de September? sanduiche\n",
            "Qual foi a comida mais consumida por Julia no mês de September? sorvete\n",
            "Qual foi a comida mais consumida por Taciana no mês de September? arroz de polvo\n"
          ]
        }
      ],
      "source": [
        "# Obter a comida mais consumida no mês para cada pessoa\n",
        "for pessoa in dados_extraidos['nome']:\n",
        "    # Obter a comida preferida da pessoa\n",
        "    comida_favorita = dados_extraidos.loc[dados_extraidos['nome'] == pessoa, 'comida_favorita'].values[0]\n",
        "\n",
        "    # Obter a comida mais consumida no mês\n",
        "    input_comida_mais_consumida = input(f'Qual foi a comida mais consumida por {pessoa} no mês de {datetime.datetime.now().strftime(\"%B\")}? ')\n",
        "\n",
        "    # Adicionar os dados à tabela\n",
        "    dados_extraidos.loc[dados_extraidos['nome'] == pessoa, 'comida_mais_consumida'] = input_comida_mais_consumida\n",
        "    dados_extraidos.loc[dados_extraidos['nome'] == pessoa, 'mes_consumo'] = datetime.datetime.now().strftime(\"%B\")"
      ]
    },
    {
      "cell_type": "markdown",
      "source": [
        "## ***LOAD***"
      ],
      "metadata": {
        "id": "W_Dmq83IqG8W"
      }
    },
    {
      "cell_type": "code",
      "source": [
        "# Salvar os dados em um arquivo CSV\n",
        "dados_extraidos.to_csv('data.csv', index=False)"
      ],
      "metadata": {
        "id": "5F0G_tHFfjwo"
      },
      "execution_count": 13,
      "outputs": []
    }
  ]
}